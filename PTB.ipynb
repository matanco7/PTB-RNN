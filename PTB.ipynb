{
  "cells": [
    {
      "cell_type": "markdown",
      "metadata": {
        "id": "Jo7ZhHicqFeO"
      },
      "source": [
        "# Libraries"
      ]
    },
    {
      "cell_type": "code",
      "execution_count": null,
      "metadata": {
        "colab": {
          "base_uri": "https://localhost:8080/"
        },
        "id": "gXJLC1hu0lmC",
        "outputId": "9612fce1-3822-472d-8bad-faa48636191d"
      },
      "outputs": [
        {
          "output_type": "stream",
          "name": "stdout",
          "text": [
            "Mounted at /content/drive\n"
          ]
        }
      ],
      "source": [
        "import math\n",
        "import os\n",
        "import torch\n",
        "import torch.nn as nn\n",
        "import torch.onnx\n",
        "from io import open\n",
        "import torch.nn.functional as F\n",
        "from torch.utils.data import Dataset, DataLoader, TensorDataset\n",
        "import matplotlib.pyplot as plt\n",
        "from copy import deepcopy\n",
        "import numpy as np\n",
        "import pandas as pd\n",
        "import random\n",
        "import sys\n",
        "import urllib.request\n",
        "from urllib.parse import urlparse\n",
        "from google.colab import drive\n",
        "drive.mount('/content/drive')"
      ]
    },
    {
      "cell_type": "markdown",
      "metadata": {
        "id": "8diCtgLc8WcU"
      },
      "source": [
        "#Hyperparameters"
      ]
    },
    {
      "cell_type": "code",
      "execution_count": null,
      "metadata": {
        "id": "OJdgB0Gm8gT5"
      },
      "outputs": [],
      "source": [
        "batch_size = 20\n",
        "sequence_len = 35\n",
        "hidden_size = 200\n",
        "layers = 2\n",
        "epochs = 20\n",
        "max_norm = 1\n"
      ]
    },
    {
      "cell_type": "code",
      "source": [
        "if torch.cuda.is_available():\n",
        "  device = torch.device('cuda')\n",
        "  print('using device: ', torch.cuda.get_device_name(device))\n",
        "else:\n",
        "  device = torch.device('cpu')\n",
        "  print('using cpu')"
      ],
      "metadata": {
        "colab": {
          "base_uri": "https://localhost:8080/"
        },
        "id": "urKqVyuHJkfI",
        "outputId": "5094d2df-a167-46a4-e9dc-40fdbb024baf"
      },
      "execution_count": null,
      "outputs": [
        {
          "output_type": "stream",
          "name": "stdout",
          "text": [
            "using device:  Tesla K80\n"
          ]
        }
      ]
    },
    {
      "cell_type": "markdown",
      "metadata": {
        "id": "T-Zgc6p36QXK"
      },
      "source": [
        "# Data loading"
      ]
    },
    {
      "cell_type": "code",
      "execution_count": null,
      "metadata": {
        "colab": {
          "base_uri": "https://localhost:8080/"
        },
        "id": "kTgJHYYw7VjS",
        "outputId": "ec17fb60-aa34-4b37-c527-cfb2cf2e05db"
      },
      "outputs": [
        {
          "output_type": "stream",
          "name": "stdout",
          "text": [
            "Vocabulary Size: 9999\n",
            "1267\n",
            "100\n",
            "112\n",
            "torch.Size([20, 35]) torch.Size([20, 35])\n",
            "100\n",
            "[25340, 2000, 2240]\n"
          ]
        }
      ],
      "source": [
        "\n",
        "train_file = '/content/drive/Shareddrives/ex2_302377551_203092234/ptb.train.txt'\n",
        "valid_file = '/content/drive/Shareddrives/ex2_302377551_203092234/ptb.valid.txt'\n",
        "test_file = '/content/drive/Shareddrives/ex2_302377551_203092234/ptb.test.txt'\n",
        "\n",
        "def data_load(sequence_len, batch_size, shuffle, device):\n",
        "\n",
        "  f = open(train_file, 'r')\n",
        "  f = f.read()\n",
        "  train = f.split()\n",
        "\n",
        "  g = open(valid_file, 'r')\n",
        "  g = g.read()\n",
        "  valid = g.split()\n",
        "\n",
        "  h = open(test_file, 'r')\n",
        "  h = h.read()\n",
        "  test = h.split()\n",
        "\n",
        "  words = sorted(set(train))\n",
        "  vocabulary_size = len(words)\n",
        "  words_indices = {w: i for i, w in enumerate(words)}\n",
        "\n",
        "  data_lists = {'train': [words_indices[c] for c in train], 'validation': [words_indices[c] for c in valid], 'test': [words_indices[c] for c in test] }\n",
        "\n",
        "  print('Vocabulary Size:',vocabulary_size)\n",
        "\n",
        "  data_loaders = {}\n",
        "  num_batches_save= []\n",
        "\n",
        "  for data_type, data in data_lists.items():\n",
        "    num_batches = len(data)//sequence_len\n",
        "    num_batches -= num_batches % batch_size\n",
        "    num_batches_save.append(num_batches)\n",
        "    x = data[:num_batches*sequence_len]\n",
        "    y = data[1:num_batches*sequence_len+1]\n",
        "    xt = torch.tensor(x, dtype=torch.int64, device=device).reshape(num_batches, sequence_len)\n",
        "    yt = torch.tensor(y, dtype=torch.int64, device=device).reshape(num_batches, sequence_len)\n",
        "    data_loaders[data_type] = DataLoader(dataset=TensorDataset(xt, yt), batch_size=batch_size, shuffle=shuffle)\n",
        "\n",
        "  return data_loaders, vocabulary_size ,num_batches_save\n",
        "  \n",
        "data_loaders, vocab_size ,num_batches = data_load(sequence_len, batch_size, shuffle=True, device=device)\n",
        "\n",
        "\n",
        "print(len(data_loaders['train']))\n",
        "print(len(data_loaders['validation']))\n",
        "print(len(data_loaders['test']))\n",
        "t=0\n",
        "for x, y in data_loaders['validation']:\n",
        " t +=1\n",
        "print(x.shape, y.shape)\n",
        "print(t)\n",
        "print(num_batches)"
      ]
    },
    {
      "cell_type": "markdown",
      "metadata": {
        "id": "QgmnpA3nTS2S"
      },
      "source": [
        "# Class Network"
      ]
    },
    {
      "cell_type": "code",
      "execution_count": null,
      "metadata": {
        "id": "uhJNhMlT2coT"
      },
      "outputs": [],
      "source": [
        "\n",
        "class RNN(nn.Module):\n",
        "\n",
        "  def __init__(self, rnn_type, tokens, n_in, n_hid, n_layers, drop_prob):\n",
        "    super(RNN, self).__init__()\n",
        "    self.tokens = tokens\n",
        "    self.drop_prob = nn.Dropout(drop_prob)\n",
        "    self.encoder = nn.Embedding(tokens, n_in)\n",
        "    if rnn_type in ['LSTM', 'GRU']:\n",
        "      self.rnn = getattr(nn, rnn_type)(n_in, n_hid, n_layers, dropout=drop_prob)\n",
        "    self.n_hid = n_hid\n",
        "    self.n_layers = n_layers\n",
        "    self.decoder = nn.Linear(n_hid, tokens)\n",
        "    self.init_weights()\n",
        "    self.rnn_type = rnn_type\n",
        "    \n",
        "\n",
        "  def init_weights(self):\n",
        "    nn.init.uniform_(self.encoder.weight, -0.1, 0.1)\n",
        "    nn.init.zeros_(self.decoder.weight)\n",
        "    nn.init.uniform_(self.decoder.weight, -0.1, 0.1)\n",
        "\n",
        "  def forward(self, input, hidden):\n",
        "    embedded = self.drop_prob(self.encoder(input))\n",
        "    output, hidden = self.rnn(embedded, hidden)\n",
        "    output = self.drop_prob(output)\n",
        "    decoded = self.decoder(output)\n",
        "    decoded = decoded.view(-1, self.tokens)\n",
        "    return F.log_softmax(decoded, dim=1), hidden\n",
        "\n",
        "  def init_hidden(self, batch_size):\n",
        "    weight = next(self.parameters())\n",
        "    if self.rnn_type == 'GRU':\n",
        "      return weight.new_zeros(self.n_layers, batch_size, self.n_hid)\n",
        "    else:\n",
        "      return (weight.new_zeros(self.n_layers, batch_size, self.n_hid), weight.new_zeros(self.n_layers, batch_size, self.n_hid))\n",
        "\n",
        "\n",
        "\n",
        "\n",
        "\n",
        "\n",
        "\n",
        "\n"
      ]
    },
    {
      "cell_type": "code",
      "execution_count": null,
      "metadata": {
        "id": "eLN4KTa5AKMl"
      },
      "outputs": [],
      "source": [
        "def repackage_hidden(h):\n",
        "\n",
        "    if isinstance(h, torch.Tensor):\n",
        "        return h.detach()\n",
        "    else:\n",
        "        return tuple(repackage_hidden(v) for v in h)"
      ]
    },
    {
      "cell_type": "markdown",
      "source": [
        "# Evaluation"
      ],
      "metadata": {
        "id": "QKEYGy_tw55Q"
      }
    },
    {
      "cell_type": "code",
      "source": [
        "def evaluation(model, name):\n",
        "  model.eval()\n",
        "\n",
        "  if name =='train':\n",
        "    nb = num_batches[0]\n",
        "  if name =='validation':\n",
        "    nb = num_batches[1]\n",
        "  if name =='test':\n",
        "    nb = num_batches[2]\n",
        "\n",
        "  hidden = model.init_hidden(batch_size)\n",
        "  loss = 0\n",
        "  perplexity = 0\n",
        "\n",
        "  with torch.no_grad():\n",
        "    for x, y in data_loaders[name]:    \n",
        "      output, hidden = model(x.t(), hidden)\n",
        "      loss += F.nll_loss(output, y.t().contiguous().view(-1))\n",
        "      perplexity += torch.exp(loss).item() / y.shape[0]\n",
        "      hidden = repackage_hidden(hidden)\n",
        "\n",
        "  loss = loss / (nb//batch_size)\n",
        "  perplexity = math.exp(loss)\n",
        "\n",
        "  print('-' * 89)\n",
        "  print(name + ' loss {:5.2f} | {} ppl {:8.2f}'.format(loss, name, math.exp(loss)))\n",
        "  print('-' * 89)\n",
        "  \n",
        "  return loss, perplexity\n",
        "\n",
        "\n"
      ],
      "metadata": {
        "id": "kapLSKrlw-CN"
      },
      "execution_count": null,
      "outputs": []
    },
    {
      "cell_type": "markdown",
      "metadata": {
        "id": "fWktF_lUM1Um"
      },
      "source": [
        "# Train"
      ]
    },
    {
      "cell_type": "code",
      "execution_count": null,
      "metadata": {
        "id": "v3mhegzMM9P2"
      },
      "outputs": [],
      "source": [
        "def train(model):\n",
        "  model.train()\n",
        "\n",
        "  train_losses, val_losses = [], []\n",
        "  train_prep, val_prep = [], []\n",
        "  loss_tot = 0\n",
        "  for e in range(epochs):\n",
        "    model.train()\n",
        "    hidden = model.init_hidden(batch_size)\n",
        "    loss_t = 0\n",
        "    loss_v = 0\n",
        "    counter = 0\n",
        "    \n",
        "    for x, y in data_loaders['train']:\n",
        "      model.zero_grad()\n",
        "      hidden = repackage_hidden(hidden)\n",
        "      output, hidden = model(x.t(), hidden)\n",
        "      model.zero_grad()\n",
        "      loss_t = criterion(output, y.t().contiguous().view(-1))\n",
        "      loss_tot += loss_t.item()\n",
        "      loss_t.backward()\n",
        "      torch.nn.utils.clip_grad_norm_(model.parameters(), 1)\n",
        "      optimizer.step()\n",
        "      if counter % 500 == 0:\n",
        "       print(\"Epoch: {}/{}...\".format(e+1, epochs),\n",
        "                    \"Step: {}...\".format(counter),\n",
        "                    \"Train Loss: {:.4f}...\".format(loss_t.item()),\n",
        "                    \"Train Preplexity: {:.4f}...\".format(np.exp(loss_t.item())))    \n",
        "      counter = counter+1\n",
        "    loss_tot = loss_tot / counter\n",
        "\n",
        "    loss_v, preplexity_v = evaluation(model, 'validation')\n",
        "    train_losses.append(loss_tot)\n",
        "    train_prep.append(np.exp(loss_tot))  \n",
        "    val_losses.append(loss_v)\n",
        "    val_prep.append(np.exp(loss_v.item()))\n",
        "    model.train()\n",
        "  plt.plot(train_prep, label='Training preplexity')\n",
        "  plt.plot(val_prep, label='Validation preplexity')\n",
        "  plt.legend(['Training preplexity', 'Validation preplexity'])\n",
        "  plt.savefig('graph.png')\n",
        "  plt.show()\n",
        "\n",
        "\n",
        "\n",
        "\n"
      ]
    },
    {
      "cell_type": "markdown",
      "metadata": {
        "id": "hGVefKrPcMgR"
      },
      "source": [
        "# LSTM"
      ]
    },
    {
      "cell_type": "code",
      "execution_count": null,
      "metadata": {
        "colab": {
          "base_uri": "https://localhost:8080/",
          "height": 1000
        },
        "id": "joc0ruQQcVyQ",
        "outputId": "fe24a7d0-e8df-4e04-d085-779232019b75"
      },
      "outputs": [
        {
          "output_type": "stream",
          "name": "stdout",
          "text": [
            "Epoch: 1/20... Step: 0... Train Loss: 9.2168... Train Preplexity: 10064.3132...\n",
            "Epoch: 1/20... Step: 500... Train Loss: 6.5190... Train Preplexity: 677.9173...\n",
            "Epoch: 1/20... Step: 1000... Train Loss: 6.2960... Train Preplexity: 542.3734...\n",
            "-----------------------------------------------------------------------------------------\n",
            "validation loss  5.90 | validation ppl   364.51\n",
            "-----------------------------------------------------------------------------------------\n",
            "Epoch: 2/20... Step: 0... Train Loss: 5.9926... Train Preplexity: 400.4472...\n",
            "Epoch: 2/20... Step: 500... Train Loss: 5.6420... Train Preplexity: 282.0236...\n",
            "Epoch: 2/20... Step: 1000... Train Loss: 5.6869... Train Preplexity: 294.9861...\n",
            "-----------------------------------------------------------------------------------------\n",
            "validation loss  5.52 | validation ppl   250.78\n",
            "-----------------------------------------------------------------------------------------\n",
            "Epoch: 3/20... Step: 0... Train Loss: 5.4529... Train Preplexity: 233.4309...\n",
            "Epoch: 3/20... Step: 500... Train Loss: 5.3781... Train Preplexity: 216.6107...\n",
            "Epoch: 3/20... Step: 1000... Train Loss: 5.1594... Train Preplexity: 174.0611...\n",
            "-----------------------------------------------------------------------------------------\n",
            "validation loss  5.38 | validation ppl   216.20\n",
            "-----------------------------------------------------------------------------------------\n",
            "Epoch: 4/20... Step: 0... Train Loss: 5.5250... Train Preplexity: 250.8780...\n",
            "Epoch: 4/20... Step: 500... Train Loss: 5.3199... Train Preplexity: 204.3597...\n",
            "Epoch: 4/20... Step: 1000... Train Loss: 5.0544... Train Preplexity: 156.7088...\n",
            "-----------------------------------------------------------------------------------------\n",
            "validation loss  5.27 | validation ppl   194.12\n",
            "-----------------------------------------------------------------------------------------\n",
            "Epoch: 5/20... Step: 0... Train Loss: 4.9438... Train Preplexity: 140.3079...\n",
            "Epoch: 5/20... Step: 500... Train Loss: 4.8356... Train Preplexity: 125.9187...\n",
            "Epoch: 5/20... Step: 1000... Train Loss: 5.0727... Train Preplexity: 159.5968...\n",
            "-----------------------------------------------------------------------------------------\n",
            "validation loss  5.20 | validation ppl   181.01\n",
            "-----------------------------------------------------------------------------------------\n",
            "Epoch: 6/20... Step: 0... Train Loss: 4.6095... Train Preplexity: 100.4321...\n",
            "Epoch: 6/20... Step: 500... Train Loss: 4.9309... Train Preplexity: 138.4987...\n",
            "Epoch: 6/20... Step: 1000... Train Loss: 5.1171... Train Preplexity: 166.8443...\n",
            "-----------------------------------------------------------------------------------------\n",
            "validation loss  5.16 | validation ppl   174.07\n",
            "-----------------------------------------------------------------------------------------\n",
            "Epoch: 7/20... Step: 0... Train Loss: 4.9565... Train Preplexity: 142.0976...\n",
            "Epoch: 7/20... Step: 500... Train Loss: 4.5813... Train Preplexity: 97.6369...\n",
            "Epoch: 7/20... Step: 1000... Train Loss: 4.7424... Train Preplexity: 114.7112...\n",
            "-----------------------------------------------------------------------------------------\n",
            "validation loss  5.15 | validation ppl   172.31\n",
            "-----------------------------------------------------------------------------------------\n",
            "Epoch: 8/20... Step: 0... Train Loss: 4.9180... Train Preplexity: 136.7334...\n",
            "Epoch: 8/20... Step: 500... Train Loss: 4.5028... Train Preplexity: 90.2695...\n",
            "Epoch: 8/20... Step: 1000... Train Loss: 4.8087... Train Preplexity: 122.5682...\n",
            "-----------------------------------------------------------------------------------------\n",
            "validation loss  5.13 | validation ppl   169.13\n",
            "-----------------------------------------------------------------------------------------\n",
            "Epoch: 9/20... Step: 0... Train Loss: 4.8603... Train Preplexity: 129.0674...\n",
            "Epoch: 9/20... Step: 500... Train Loss: 4.3786... Train Preplexity: 79.7270...\n",
            "Epoch: 9/20... Step: 1000... Train Loss: 4.7094... Train Preplexity: 110.9859...\n",
            "-----------------------------------------------------------------------------------------\n",
            "validation loss  5.14 | validation ppl   170.29\n",
            "-----------------------------------------------------------------------------------------\n",
            "Epoch: 10/20... Step: 0... Train Loss: 4.3326... Train Preplexity: 76.1424...\n",
            "Epoch: 10/20... Step: 500... Train Loss: 4.7771... Train Preplexity: 118.7583...\n",
            "Epoch: 10/20... Step: 1000... Train Loss: 5.2145... Train Preplexity: 183.9190...\n",
            "-----------------------------------------------------------------------------------------\n",
            "validation loss  5.13 | validation ppl   169.48\n",
            "-----------------------------------------------------------------------------------------\n",
            "Epoch: 11/20... Step: 0... Train Loss: 4.1721... Train Preplexity: 64.8539...\n",
            "Epoch: 11/20... Step: 500... Train Loss: 4.6683... Train Preplexity: 106.5116...\n",
            "Epoch: 11/20... Step: 1000... Train Loss: 4.7240... Train Preplexity: 112.6148...\n",
            "-----------------------------------------------------------------------------------------\n",
            "validation loss  5.14 | validation ppl   170.47\n",
            "-----------------------------------------------------------------------------------------\n",
            "Epoch: 12/20... Step: 0... Train Loss: 4.2066... Train Preplexity: 67.1258...\n",
            "Epoch: 12/20... Step: 500... Train Loss: 4.4180... Train Preplexity: 82.9274...\n",
            "Epoch: 12/20... Step: 1000... Train Loss: 4.8277... Train Preplexity: 124.9251...\n",
            "-----------------------------------------------------------------------------------------\n",
            "validation loss  5.15 | validation ppl   172.76\n",
            "-----------------------------------------------------------------------------------------\n",
            "Epoch: 13/20... Step: 0... Train Loss: 4.3705... Train Preplexity: 79.0807...\n",
            "Epoch: 13/20... Step: 500... Train Loss: 4.6864... Train Preplexity: 108.4660...\n",
            "Epoch: 13/20... Step: 1000... Train Loss: 4.3807... Train Preplexity: 79.8962...\n",
            "-----------------------------------------------------------------------------------------\n",
            "validation loss  5.16 | validation ppl   174.71\n",
            "-----------------------------------------------------------------------------------------\n",
            "Epoch: 14/20... Step: 0... Train Loss: 4.4700... Train Preplexity: 87.3546...\n",
            "Epoch: 14/20... Step: 500... Train Loss: 4.6738... Train Preplexity: 107.1010...\n",
            "Epoch: 14/20... Step: 1000... Train Loss: 4.5189... Train Preplexity: 91.7386...\n",
            "-----------------------------------------------------------------------------------------\n",
            "validation loss  5.17 | validation ppl   175.45\n",
            "-----------------------------------------------------------------------------------------\n",
            "Epoch: 15/20... Step: 0... Train Loss: 4.4601... Train Preplexity: 86.4994...\n",
            "Epoch: 15/20... Step: 500... Train Loss: 4.1474... Train Preplexity: 63.2700...\n",
            "Epoch: 15/20... Step: 1000... Train Loss: 4.4253... Train Preplexity: 83.5416...\n",
            "-----------------------------------------------------------------------------------------\n",
            "validation loss  5.19 | validation ppl   178.74\n",
            "-----------------------------------------------------------------------------------------\n",
            "Epoch: 16/20... Step: 0... Train Loss: 4.0399... Train Preplexity: 56.8229...\n",
            "Epoch: 16/20... Step: 500... Train Loss: 4.5996... Train Preplexity: 99.4478...\n",
            "Epoch: 16/20... Step: 1000... Train Loss: 4.2224... Train Preplexity: 68.1985...\n",
            "-----------------------------------------------------------------------------------------\n",
            "validation loss  5.20 | validation ppl   180.70\n",
            "-----------------------------------------------------------------------------------------\n",
            "Epoch: 17/20... Step: 0... Train Loss: 4.1972... Train Preplexity: 66.5030...\n",
            "Epoch: 17/20... Step: 500... Train Loss: 4.6123... Train Preplexity: 100.7131...\n",
            "Epoch: 17/20... Step: 1000... Train Loss: 4.5405... Train Preplexity: 93.7368...\n",
            "-----------------------------------------------------------------------------------------\n",
            "validation loss  5.21 | validation ppl   182.81\n",
            "-----------------------------------------------------------------------------------------\n",
            "Epoch: 18/20... Step: 0... Train Loss: 4.2044... Train Preplexity: 66.9785...\n",
            "Epoch: 18/20... Step: 500... Train Loss: 4.4665... Train Preplexity: 87.0515...\n",
            "Epoch: 18/20... Step: 1000... Train Loss: 4.0025... Train Preplexity: 54.7349...\n",
            "-----------------------------------------------------------------------------------------\n",
            "validation loss  5.22 | validation ppl   184.65\n",
            "-----------------------------------------------------------------------------------------\n",
            "Epoch: 19/20... Step: 0... Train Loss: 4.1657... Train Preplexity: 64.4392...\n",
            "Epoch: 19/20... Step: 500... Train Loss: 4.5309... Train Preplexity: 92.8402...\n",
            "Epoch: 19/20... Step: 1000... Train Loss: 4.5755... Train Preplexity: 97.0775...\n",
            "-----------------------------------------------------------------------------------------\n",
            "validation loss  5.23 | validation ppl   186.69\n",
            "-----------------------------------------------------------------------------------------\n",
            "Epoch: 20/20... Step: 0... Train Loss: 4.0977... Train Preplexity: 60.1991...\n",
            "Epoch: 20/20... Step: 500... Train Loss: 4.0418... Train Preplexity: 56.9303...\n",
            "Epoch: 20/20... Step: 1000... Train Loss: 4.1212... Train Preplexity: 61.6318...\n",
            "-----------------------------------------------------------------------------------------\n",
            "validation loss  5.24 | validation ppl   188.78\n",
            "-----------------------------------------------------------------------------------------\n"
          ]
        },
        {
          "output_type": "display_data",
          "data": {
            "text/plain": [
              "<Figure size 432x288 with 1 Axes>"
            ],
            "image/png": "[encoded data removed]"
          },
          "metadata": {
            "needs_background": "light"
          }
        }
      ],
      "source": [
        "model = RNN('LSTM', vocab_size, sequence_len, hidden_size, layers, 0)\n",
        "model.to(device)\n",
        "optimizer = torch.optim.SGD(model.parameters(), lr=10)\n",
        "criterion = nn.NLLLoss()\n",
        "train(model)\n",
        "torch.save(model.state_dict(), '/content/drive/Shareddrives/ex2_302377551_203092234/LSTM.pt')"
      ]
    },
    {
      "cell_type": "markdown",
      "source": [
        "# LSTM + DROPOUT"
      ],
      "metadata": {
        "id": "oPYA0pKigXxI"
      }
    },
    {
      "cell_type": "code",
      "source": [
        "model = RNN('LSTM', vocab_size, sequence_len, hidden_size, layers, 0.3)\n",
        "model.to(device)\n",
        "optimizer = torch.optim.SGD(model.parameters(), lr=10)\n",
        "criterion = nn.NLLLoss()\n",
        "train(model)\n",
        "torch.save(model.state_dict(), '/content/drive/Shareddrives/ex2_302377551_203092234/LSTM_dropout.pt')"
      ],
      "metadata": {
        "id": "fqhlVzYlgbaY"
      },
      "execution_count": null,
      "outputs": []
    },
    {
      "cell_type": "markdown",
      "source": [
        "# GRU"
      ],
      "metadata": {
        "id": "ubPwiJe2r41J"
      }
    },
    {
      "cell_type": "code",
      "source": [
        "model = RNN('GRU', vocab_size, sequence_len, hidden_size, layers, 0)\n",
        "model.to(device)\n",
        "optimizer = torch.optim.Adam(model.parameters(), lr=0.001)\n",
        "criterion = nn.NLLLoss()\n",
        "train(model)\n",
        "torch.save(model.state_dict(), '/content/drive/Shareddrives/ex2_302377551_203092234/GRU.pt')"
      ],
      "metadata": {
        "id": "gXpR2UGMr7kM"
      },
      "execution_count": null,
      "outputs": []
    },
    {
      "cell_type": "markdown",
      "source": [
        "# GRU + Dropout"
      ],
      "metadata": {
        "id": "RgFb10BZP8iC"
      }
    },
    {
      "cell_type": "code",
      "source": [
        "model = RNN('GRU', vocab_size, sequence_len, hidden_size, layers, 0.3)\n",
        "model.to(device)\n",
        "optimizer = torch.optim.Adam(model.parameters(), lr=0.004)\n",
        "criterion = nn.NLLLoss()\n",
        "train(model)\n",
        "torch.save(model.state_dict(), '/content/drive/Shareddrives/ex2_302377551_203092234/GRU_dropout.pt')"
      ],
      "metadata": {
        "colab": {
          "base_uri": "https://localhost:8080/",
          "height": 1000
        },
        "id": "ubzwg9R2QEjC",
        "outputId": "95be9e4d-7c13-4a66-d36b-07ffc1da5109"
      },
      "execution_count": null,
      "outputs": [
        {
          "output_type": "stream",
          "name": "stdout",
          "text": [
            "Epoch: 1/15... Step: 0... Train Loss: 9.2157... Train Preplexity: 10053.2719...\n",
            "Epoch: 1/15... Step: 500... Train Loss: 6.6757... Train Preplexity: 792.8782...\n",
            "Epoch: 1/15... Step: 1000... Train Loss: 6.1430... Train Preplexity: 465.4492...\n",
            "-----------------------------------------------------------------------------------------\n",
            "validation loss  5.91 | validation ppl   369.21\n",
            "-----------------------------------------------------------------------------------------\n",
            "Epoch: 2/15... Step: 0... Train Loss: 6.3147... Train Preplexity: 552.6271...\n",
            "Epoch: 2/15... Step: 500... Train Loss: 5.5664... Train Preplexity: 261.4922...\n",
            "Epoch: 2/15... Step: 1000... Train Loss: 5.6784... Train Preplexity: 292.4677...\n",
            "-----------------------------------------------------------------------------------------\n",
            "validation loss  5.55 | validation ppl   258.13\n",
            "-----------------------------------------------------------------------------------------\n",
            "Epoch: 3/15... Step: 0... Train Loss: 6.0042... Train Preplexity: 405.1343...\n",
            "Epoch: 3/15... Step: 500... Train Loss: 5.4365... Train Preplexity: 229.6267...\n",
            "Epoch: 3/15... Step: 1000... Train Loss: 5.6262... Train Preplexity: 277.6010...\n",
            "-----------------------------------------------------------------------------------------\n",
            "validation loss  5.42 | validation ppl   226.62\n",
            "-----------------------------------------------------------------------------------------\n",
            "Epoch: 4/15... Step: 0... Train Loss: 5.5261... Train Preplexity: 251.1527...\n",
            "Epoch: 4/15... Step: 500... Train Loss: 5.5746... Train Preplexity: 263.6537...\n",
            "Epoch: 4/15... Step: 1000... Train Loss: 5.6522... Train Preplexity: 284.9231...\n",
            "-----------------------------------------------------------------------------------------\n",
            "validation loss  5.33 | validation ppl   207.38\n",
            "-----------------------------------------------------------------------------------------\n",
            "Epoch: 5/15... Step: 0... Train Loss: 5.2983... Train Preplexity: 199.9908...\n",
            "Epoch: 5/15... Step: 500... Train Loss: 5.2340... Train Preplexity: 187.5327...\n",
            "Epoch: 5/15... Step: 1000... Train Loss: 5.6448... Train Preplexity: 282.8165...\n",
            "-----------------------------------------------------------------------------------------\n",
            "validation loss  5.29 | validation ppl   197.73\n",
            "-----------------------------------------------------------------------------------------\n",
            "Epoch: 6/15... Step: 0... Train Loss: 5.2549... Train Preplexity: 191.4979...\n",
            "Epoch: 6/15... Step: 500... Train Loss: 5.1532... Train Preplexity: 172.9767...\n",
            "Epoch: 6/15... Step: 1000... Train Loss: 5.2929... Train Preplexity: 198.9224...\n",
            "-----------------------------------------------------------------------------------------\n",
            "validation loss  5.25 | validation ppl   190.08\n",
            "-----------------------------------------------------------------------------------------\n",
            "Epoch: 7/15... Step: 0... Train Loss: 5.3744... Train Preplexity: 215.8113...\n",
            "Epoch: 7/15... Step: 500... Train Loss: 5.1566... Train Preplexity: 173.5774...\n",
            "Epoch: 7/15... Step: 1000... Train Loss: 5.2430... Train Preplexity: 189.2395...\n",
            "-----------------------------------------------------------------------------------------\n",
            "validation loss  5.23 | validation ppl   187.11\n",
            "-----------------------------------------------------------------------------------------\n",
            "Epoch: 8/15... Step: 0... Train Loss: 5.1082... Train Preplexity: 165.3649...\n",
            "Epoch: 8/15... Step: 500... Train Loss: 5.3631... Train Preplexity: 213.3799...\n",
            "Epoch: 8/15... Step: 1000... Train Loss: 5.2050... Train Preplexity: 182.1718...\n",
            "-----------------------------------------------------------------------------------------\n",
            "validation loss  5.21 | validation ppl   183.97\n",
            "-----------------------------------------------------------------------------------------\n",
            "Epoch: 9/15... Step: 0... Train Loss: 5.0956... Train Preplexity: 163.3050...\n",
            "Epoch: 9/15... Step: 500... Train Loss: 5.1854... Train Preplexity: 178.6487...\n",
            "Epoch: 9/15... Step: 1000... Train Loss: 5.0991... Train Preplexity: 163.8824...\n",
            "-----------------------------------------------------------------------------------------\n",
            "validation loss  5.21 | validation ppl   182.82\n",
            "-----------------------------------------------------------------------------------------\n",
            "Epoch: 10/15... Step: 0... Train Loss: 5.2614... Train Preplexity: 192.7604...\n",
            "Epoch: 10/15... Step: 500... Train Loss: 5.2591... Train Preplexity: 192.3038...\n",
            "Epoch: 10/15... Step: 1000... Train Loss: 5.3578... Train Preplexity: 212.2492...\n",
            "-----------------------------------------------------------------------------------------\n",
            "validation loss  5.18 | validation ppl   176.91\n",
            "-----------------------------------------------------------------------------------------\n",
            "Epoch: 11/15... Step: 0... Train Loss: 5.2169... Train Preplexity: 184.3643...\n",
            "Epoch: 11/15... Step: 500... Train Loss: 5.0561... Train Preplexity: 156.9780...\n",
            "Epoch: 11/15... Step: 1000... Train Loss: 5.3211... Train Preplexity: 204.6152...\n",
            "-----------------------------------------------------------------------------------------\n",
            "validation loss  5.17 | validation ppl   176.66\n",
            "-----------------------------------------------------------------------------------------\n",
            "Epoch: 12/15... Step: 0... Train Loss: 4.9128... Train Preplexity: 136.0209...\n",
            "Epoch: 12/15... Step: 500... Train Loss: 5.4275... Train Preplexity: 227.5852...\n",
            "Epoch: 12/15... Step: 1000... Train Loss: 5.1946... Train Preplexity: 180.2980...\n",
            "-----------------------------------------------------------------------------------------\n",
            "validation loss  5.17 | validation ppl   175.59\n",
            "-----------------------------------------------------------------------------------------\n",
            "Epoch: 13/15... Step: 0... Train Loss: 5.1460... Train Preplexity: 171.7441...\n",
            "Epoch: 13/15... Step: 500... Train Loss: 5.3576... Train Preplexity: 212.2065...\n",
            "Epoch: 13/15... Step: 1000... Train Loss: 5.2971... Train Preplexity: 199.7526...\n",
            "-----------------------------------------------------------------------------------------\n",
            "validation loss  5.16 | validation ppl   173.83\n",
            "-----------------------------------------------------------------------------------------\n",
            "Epoch: 14/15... Step: 0... Train Loss: 5.2001... Train Preplexity: 181.2859...\n",
            "Epoch: 14/15... Step: 500... Train Loss: 4.7892... Train Preplexity: 120.2006...\n",
            "Epoch: 14/15... Step: 1000... Train Loss: 5.2522... Train Preplexity: 190.9880...\n",
            "-----------------------------------------------------------------------------------------\n",
            "validation loss  5.15 | validation ppl   172.66\n",
            "-----------------------------------------------------------------------------------------\n",
            "Epoch: 15/15... Step: 0... Train Loss: 5.0606... Train Preplexity: 157.6900...\n",
            "Epoch: 15/15... Step: 500... Train Loss: 4.8591... Train Preplexity: 128.9046...\n",
            "Epoch: 15/15... Step: 1000... Train Loss: 5.0988... Train Preplexity: 163.8309...\n",
            "-----------------------------------------------------------------------------------------\n",
            "validation loss  5.14 | validation ppl   171.17\n",
            "-----------------------------------------------------------------------------------------\n"
          ]
        },
        {
          "output_type": "display_data",
          "data": {
            "text/plain": [
              "<Figure size 432x288 with 1 Axes>"
            ],
            "image/png": "[encoded data removed]"
          },
          "metadata": {
            "needs_background": "light"
          }
        }
      ]
    }
  ],
  "metadata": {
    "colab": {
      "collapsed_sections": [],
      "name": "PTB.ipynb",
      "provenance": []
    },
    "kernelspec": {
      "display_name": "Python 3",
      "name": "python3"
    },
    "language_info": {
      "name": "python"
    },
    "accelerator": "GPU"
  },
  "nbformat": 4,
  "nbformat_minor": 0
}